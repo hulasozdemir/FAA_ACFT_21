{
 "cells": [
  {
   "cell_type": "code",
   "execution_count": 1,
   "id": "0c57427c-67c4-4373-b7a6-96a46075c689",
   "metadata": {},
   "outputs": [],
   "source": [
    "import pandas as pd"
   ]
  },
  {
   "cell_type": "code",
   "execution_count": 2,
   "id": "ad159900-fe5d-40ef-9c2d-8985576bb314",
   "metadata": {},
   "outputs": [],
   "source": [
    "ACFTREF = pd.read_csv(\"ACFTREF.csv\")\n",
    "MASTER = pd.read_csv(\"MASTER.csv\", low_memory=False, usecols = [\"N-NUMBER\", \"MFR MDL CODE\"])\n",
    "MASTER = MASTER.rename(columns={\"MFR MDL CODE\": \"CODE\"})"
   ]
  },
  {
   "cell_type": "code",
   "execution_count": 3,
   "id": "f9fc9e5a-6cdd-4303-9d52-ccb4d08f8192",
   "metadata": {},
   "outputs": [],
   "source": [
    "ACFTREF = ACFTREF.merge(MASTER,on=[\"CODE\"])"
   ]
  },
  {
   "cell_type": "code",
   "execution_count": 4,
   "id": "c68a17d7-6ba7-41ab-a35a-d829bd8ba0ba",
   "metadata": {},
   "outputs": [
    {
     "data": {
      "text/plain": [
       "Index(['CODE', 'MFR', 'MODEL', 'TYPE-ACFT', 'TYPE-ENG', 'AC-CAT',\n",
       "       'BUILD-CERT-IND', 'NO-ENG', 'NO-SEATS', 'AC-WEIGHT', 'SPEED',\n",
       "       'TC-DATA-SHEET', 'TC-DATA-HOLDER', 'Unnamed: 13', 'N-NUMBER'],\n",
       "      dtype='object')"
      ]
     },
     "execution_count": 4,
     "metadata": {},
     "output_type": "execute_result"
    }
   ],
   "source": [
    "ACFTREF.columns"
   ]
  },
  {
   "cell_type": "code",
   "execution_count": 5,
   "id": "7d546166-1680-455d-94db-ac5ce3f72179",
   "metadata": {},
   "outputs": [],
   "source": [
    "ACFTREF = ACFTREF.drop(columns=[ 'CODE', 'BUILD-CERT-IND','TC-DATA-SHEET', 'TC-DATA-HOLDER', 'Unnamed: 13'])"
   ]
  },
  {
   "cell_type": "code",
   "execution_count": 6,
   "id": "cbdb6424-073c-4559-93da-f50a82c9139c",
   "metadata": {},
   "outputs": [],
   "source": [
    "first_column = ACFTREF.pop(\"N-NUMBER\")\n",
    "ACFTREF.insert(0, \"N-NUMBER\", first_column)"
   ]
  },
  {
   "cell_type": "code",
   "execution_count": 20,
   "id": "64d9fb82-12de-4393-bcd0-ae4519ed64a2",
   "metadata": {},
   "outputs": [
    {
     "data": {
      "text/plain": [
       "N-NUMBER     object\n",
       "MFR          object\n",
       "MODEL        object\n",
       "TYPE-ACFT    object\n",
       "TYPE-ENG      int64\n",
       "AC-CAT        int64\n",
       "NO-ENG        int64\n",
       "NO-SEATS      int64\n",
       "AC-WEIGHT    object\n",
       "SPEED         int64\n",
       "dtype: object"
      ]
     },
     "execution_count": 20,
     "metadata": {},
     "output_type": "execute_result"
    }
   ],
   "source": [
    "ACFTREF.dtypes"
   ]
  },
  {
   "cell_type": "code",
   "execution_count": 22,
   "id": "fa01c379-e525-4806-8e04-035be5725075",
   "metadata": {},
   "outputs": [],
   "source": [
    "ACFTREF[\"TYPE-ACFT\"] = ACFTREF[\"TYPE-ACFT\"].astype(dtype=\"string\")"
   ]
  },
  {
   "cell_type": "code",
   "execution_count": 23,
   "id": "8800dade-eeb4-4b2f-88c8-0c2f708df5ef",
   "metadata": {},
   "outputs": [
    {
     "data": {
      "text/plain": [
       "N-NUMBER     object\n",
       "MFR          object\n",
       "MODEL        object\n",
       "TYPE-ACFT    string\n",
       "TYPE-ENG      int64\n",
       "AC-CAT        int64\n",
       "NO-ENG        int64\n",
       "NO-SEATS      int64\n",
       "AC-WEIGHT    object\n",
       "SPEED         int64\n",
       "dtype: object"
      ]
     },
     "execution_count": 23,
     "metadata": {},
     "output_type": "execute_result"
    }
   ],
   "source": [
    "ACFTREF.dtypes"
   ]
  },
  {
   "cell_type": "code",
   "execution_count": 32,
   "id": "ec1e6f1b-b562-4ab2-ae32-7f631503bd44",
   "metadata": {},
   "outputs": [],
   "source": [
    "compression_opts = dict(method='zip', archive_name='FAA_AC_REGISTRATION_2021.csv') "
   ]
  },
  {
   "cell_type": "code",
   "execution_count": 33,
   "id": "19c10f1a-591e-4e0c-9ee0-1df6e526132b",
   "metadata": {},
   "outputs": [],
   "source": [
    "ACFTREF.to_csv('FAA_AC_REGISTRATION_2021.zip', index=False, compression=compression_opts)  "
   ]
  },
  {
   "cell_type": "code",
   "execution_count": 35,
   "id": "24b20953-97af-4df8-b5da-c1722d7fa56c",
   "metadata": {},
   "outputs": [
    {
     "name": "stderr",
     "output_type": "stream",
     "text": [
      "<ipython-input-35-d4e78f66f534>:1: DtypeWarning: Columns (3) have mixed types. Specify dtype option on import or set low_memory=False.\n",
      "  ACFTREF = pd.read_csv(\"FAA_AC_REGISTRATION_2021.csv\")\n"
     ]
    }
   ],
   "source": [
    "ACFTREF = pd.read_csv(\"FAA_AC_REGISTRATION_2021.csv\")"
   ]
  },
  {
   "cell_type": "code",
   "execution_count": 36,
   "id": "3a2aab74-f314-40ce-b712-ededb77071eb",
   "metadata": {},
   "outputs": [
    {
     "data": {
      "text/html": [
       "<div>\n",
       "<style scoped>\n",
       "    .dataframe tbody tr th:only-of-type {\n",
       "        vertical-align: middle;\n",
       "    }\n",
       "\n",
       "    .dataframe tbody tr th {\n",
       "        vertical-align: top;\n",
       "    }\n",
       "\n",
       "    .dataframe thead th {\n",
       "        text-align: right;\n",
       "    }\n",
       "</style>\n",
       "<table border=\"1\" class=\"dataframe\">\n",
       "  <thead>\n",
       "    <tr style=\"text-align: right;\">\n",
       "      <th></th>\n",
       "      <th>N-NUMBER</th>\n",
       "      <th>MFR</th>\n",
       "      <th>MODEL</th>\n",
       "      <th>TYPE-ACFT</th>\n",
       "      <th>TYPE-ENG</th>\n",
       "      <th>AC-CAT</th>\n",
       "      <th>NO-ENG</th>\n",
       "      <th>NO-SEATS</th>\n",
       "      <th>AC-WEIGHT</th>\n",
       "      <th>SPEED</th>\n",
       "    </tr>\n",
       "  </thead>\n",
       "  <tbody>\n",
       "    <tr>\n",
       "      <th>0</th>\n",
       "      <td>116A</td>\n",
       "      <td>AAR AIRLIFT GROUP INC</td>\n",
       "      <td>UH-60A</td>\n",
       "      <td>6</td>\n",
       "      <td>3</td>\n",
       "      <td>1</td>\n",
       "      <td>2</td>\n",
       "      <td>15</td>\n",
       "      <td>CLASS 3</td>\n",
       "      <td>0</td>\n",
       "    </tr>\n",
       "    <tr>\n",
       "      <th>1</th>\n",
       "      <td>54Q</td>\n",
       "      <td>EXLINE ACE-C</td>\n",
       "      <td>ACE-C</td>\n",
       "      <td>4</td>\n",
       "      <td>1</td>\n",
       "      <td>1</td>\n",
       "      <td>1</td>\n",
       "      <td>1</td>\n",
       "      <td>CLASS 1</td>\n",
       "      <td>82</td>\n",
       "    </tr>\n",
       "    <tr>\n",
       "      <th>2</th>\n",
       "      <td>5078K</td>\n",
       "      <td>HEYER-BARNES</td>\n",
       "      <td>BABY ACE</td>\n",
       "      <td>4</td>\n",
       "      <td>1</td>\n",
       "      <td>1</td>\n",
       "      <td>1</td>\n",
       "      <td>1</td>\n",
       "      <td>CLASS 1</td>\n",
       "      <td>82</td>\n",
       "    </tr>\n",
       "    <tr>\n",
       "      <th>3</th>\n",
       "      <td>1141J</td>\n",
       "      <td>MATTSON</td>\n",
       "      <td>BABY ACE</td>\n",
       "      <td>4</td>\n",
       "      <td>1</td>\n",
       "      <td>1</td>\n",
       "      <td>1</td>\n",
       "      <td>1</td>\n",
       "      <td>CLASS 1</td>\n",
       "      <td>82</td>\n",
       "    </tr>\n",
       "    <tr>\n",
       "      <th>4</th>\n",
       "      <td>391CG</td>\n",
       "      <td>KONECKI BABY ACE</td>\n",
       "      <td>JK-1</td>\n",
       "      <td>4</td>\n",
       "      <td>1</td>\n",
       "      <td>1</td>\n",
       "      <td>1</td>\n",
       "      <td>1</td>\n",
       "      <td>CLASS 1</td>\n",
       "      <td>82</td>\n",
       "    </tr>\n",
       "    <tr>\n",
       "      <th>...</th>\n",
       "      <td>...</td>\n",
       "      <td>...</td>\n",
       "      <td>...</td>\n",
       "      <td>...</td>\n",
       "      <td>...</td>\n",
       "      <td>...</td>\n",
       "      <td>...</td>\n",
       "      <td>...</td>\n",
       "      <td>...</td>\n",
       "      <td>...</td>\n",
       "    </tr>\n",
       "    <tr>\n",
       "      <th>288362</th>\n",
       "      <td>526L</td>\n",
       "      <td>ZLIN</td>\n",
       "      <td>526L</td>\n",
       "      <td>4</td>\n",
       "      <td>1</td>\n",
       "      <td>1</td>\n",
       "      <td>1</td>\n",
       "      <td>2</td>\n",
       "      <td>CLASS 1</td>\n",
       "      <td>0</td>\n",
       "    </tr>\n",
       "    <tr>\n",
       "      <th>288363</th>\n",
       "      <td>191D</td>\n",
       "      <td>ZLIN</td>\n",
       "      <td>142C</td>\n",
       "      <td>4</td>\n",
       "      <td>1</td>\n",
       "      <td>1</td>\n",
       "      <td>1</td>\n",
       "      <td>2</td>\n",
       "      <td>CLASS 1</td>\n",
       "      <td>0</td>\n",
       "    </tr>\n",
       "    <tr>\n",
       "      <th>288364</th>\n",
       "      <td>1A</td>\n",
       "      <td>ZLT ZEPPELIN LUFTSCHIFFTECHNIK</td>\n",
       "      <td>LZ NO7-101</td>\n",
       "      <td>3</td>\n",
       "      <td>1</td>\n",
       "      <td>1</td>\n",
       "      <td>3</td>\n",
       "      <td>15</td>\n",
       "      <td>CLASS 2</td>\n",
       "      <td>0</td>\n",
       "    </tr>\n",
       "    <tr>\n",
       "      <th>288365</th>\n",
       "      <td>2A</td>\n",
       "      <td>ZLT ZEPPELIN LUFTSCHIFFTECHNIK</td>\n",
       "      <td>LZ NO7-101</td>\n",
       "      <td>3</td>\n",
       "      <td>1</td>\n",
       "      <td>1</td>\n",
       "      <td>3</td>\n",
       "      <td>15</td>\n",
       "      <td>CLASS 2</td>\n",
       "      <td>0</td>\n",
       "    </tr>\n",
       "    <tr>\n",
       "      <th>288366</th>\n",
       "      <td>3A</td>\n",
       "      <td>ZLT ZEPPELIN LUFTSCHIFFTECHNIK</td>\n",
       "      <td>LZ NO7-101</td>\n",
       "      <td>3</td>\n",
       "      <td>1</td>\n",
       "      <td>1</td>\n",
       "      <td>3</td>\n",
       "      <td>15</td>\n",
       "      <td>CLASS 2</td>\n",
       "      <td>0</td>\n",
       "    </tr>\n",
       "  </tbody>\n",
       "</table>\n",
       "<p>288367 rows × 10 columns</p>\n",
       "</div>"
      ],
      "text/plain": [
       "       N-NUMBER                             MFR                 MODEL  \\\n",
       "0         116A   AAR AIRLIFT GROUP INC           UH-60A                 \n",
       "1         54Q    EXLINE ACE-C                    ACE-C                  \n",
       "2         5078K  HEYER-BARNES                    BABY ACE               \n",
       "3         1141J  MATTSON                         BABY ACE               \n",
       "4         391CG  KONECKI BABY ACE                JK-1                   \n",
       "...         ...                             ...                   ...   \n",
       "288362    526L   ZLIN                            526L                   \n",
       "288363    191D   ZLIN                            142C                   \n",
       "288364    1A     ZLT ZEPPELIN LUFTSCHIFFTECHNIK  LZ NO7-101             \n",
       "288365    2A     ZLT ZEPPELIN LUFTSCHIFFTECHNIK  LZ NO7-101             \n",
       "288366    3A     ZLT ZEPPELIN LUFTSCHIFFTECHNIK  LZ NO7-101             \n",
       "\n",
       "       TYPE-ACFT  TYPE-ENG  AC-CAT  NO-ENG  NO-SEATS AC-WEIGHT  SPEED  \n",
       "0              6         3       1       2        15   CLASS 3      0  \n",
       "1              4         1       1       1         1   CLASS 1     82  \n",
       "2              4         1       1       1         1   CLASS 1     82  \n",
       "3              4         1       1       1         1   CLASS 1     82  \n",
       "4              4         1       1       1         1   CLASS 1     82  \n",
       "...          ...       ...     ...     ...       ...       ...    ...  \n",
       "288362         4         1       1       1         2   CLASS 1      0  \n",
       "288363         4         1       1       1         2   CLASS 1      0  \n",
       "288364         3         1       1       3        15   CLASS 2      0  \n",
       "288365         3         1       1       3        15   CLASS 2      0  \n",
       "288366         3         1       1       3        15   CLASS 2      0  \n",
       "\n",
       "[288367 rows x 10 columns]"
      ]
     },
     "execution_count": 36,
     "metadata": {},
     "output_type": "execute_result"
    }
   ],
   "source": [
    "ACFTREF"
   ]
  },
  {
   "cell_type": "code",
   "execution_count": null,
   "id": "b7cd95ca-7249-4bcf-b2c5-070eca0f5100",
   "metadata": {},
   "outputs": [],
   "source": []
  }
 ],
 "metadata": {
  "kernelspec": {
   "display_name": "Python 3",
   "language": "python",
   "name": "python3"
  },
  "language_info": {
   "codemirror_mode": {
    "name": "ipython",
    "version": 3
   },
   "file_extension": ".py",
   "mimetype": "text/x-python",
   "name": "python",
   "nbconvert_exporter": "python",
   "pygments_lexer": "ipython3",
   "version": "3.9.12"
  }
 },
 "nbformat": 4,
 "nbformat_minor": 5
}
